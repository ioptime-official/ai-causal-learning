{
  "cells": [
    {
      "cell_type": "markdown",
      "metadata": {
        "id": "SUnA6oEeaUhJ"
      },
      "source": [
        "# **Causal Inference Example using Dowhy**"
      ]
    },
    {
      "cell_type": "markdown",
      "metadata": {
        "id": "caCtzZo8xNcT"
      },
      "source": [
        "## **Importing Necessary Libraries**"
      ]
    },
    {
      "cell_type": "code",
      "execution_count": 1,
      "metadata": {},
      "outputs": [],
      "source": [
        "# install  libraries\n",
        "!pip install dowhy numpy pandas seaborn \n"
      ]
    },
    {
      "cell_type": "code",
      "execution_count": null,
      "metadata": {
        "colab": {
          "base_uri": "https://localhost:8080/"
        },
        "id": "MAq0lpIBOk8b",
        "outputId": "23e13ad8-bdd3-45ec-854d-a0fc33a81f80"
      },
      "outputs": [],
      "source": [
        "import numpy as np\n",
        "import pandas as pd\n",
        "\n",
        "import matplotlib.pyplot as plt\n",
        "import seaborn as sns\n",
        "import dowhy\n",
        "from dowhy import CausalModel\n",
        "\n",
        "import warnings\n",
        "warnings.filterwarnings('ignore')"
      ]
    },
    {
      "cell_type": "markdown",
      "metadata": {
        "id": "HO-FTd5axbEf"
      },
      "source": [
        "## **Dataset**\n",
        "Here we are generating a dataset which simulates user behavior over a period of several months. Let's break down each column in the DataFrame and what it represents:\n",
        "\n",
        "\n",
        "\n",
        "*   **user_id:** This column represents the unique identifier for each user. Each user is assigned a unique ID.\n",
        "*   **signup_month:** This column indicates the month in which a user signed up. If the value is 0, it means the user did not sign up during any month. Otherwise, the value represents the month in which the user signed up.\n",
        "*   **month:** This column represents the month of the observation. It ranges from 1 to 12, indicating the months in a year.\n",
        "*   **spend:** This column represents the simulated spending behavior of users. The spending values are generated using a Poisson distribution centered around 500. Additionally, the spending decreases by 10 for each subsequent month. For users who signed up before the current month and are in the treatment group, their spending is increased by 100. This simulates a treatment effect on spending behavior.\n",
        "*   **treatment:** This column indicates whether a user is in the treatment group or not. If the user signed up (signup_month is greater than 0), they are considered in the treatment group. Otherwise, they are not in the treatment group.\n",
        "\n",
        "The dataset simulates a scenario where users can sign up during different months, and their spending behavior is tracked over a year. The treatment group consists of users who signed up, and these users experience a treatment effect in terms of increased spending.\n",
        "\n",
        "Here's a quick example to help illustrate the dataset:\n",
        "\n",
        "    User A: user_id = 0, signup_month = 3, month = 1, spend = 490, treatment = True\n",
        "    User B: user_id = 1, signup_month = 0, month = 1, spend = 510, treatment = False\n",
        "    User C: user_id = 2, signup_month = 0, month = 2, spend = 490, treatment = False\n",
        "    User D: user_id = 3, signup_month = 2, month = 2, spend = 580, treatment = True\n",
        "In this example, User A signed up in month 3 and is in the treatment group. User B did not sign up, so they are not in the treatment group. Users C and D did not sign up but are observed in month 2, and User D is in the treatment group. The spending values are influenced by the treatment effect and the month of observation.\n",
        "\n",
        "This dataset is used to analyze the causal impact of signing up on user spending behavior, taking into account the treatment effect and other factors.\n",
        "\n",
        "\n",
        "\n",
        "\n",
        "\n",
        "\n"
      ]
    },
    {
      "cell_type": "code",
      "execution_count": null,
      "metadata": {
        "colab": {
          "base_uri": "https://localhost:8080/",
          "height": 444
        },
        "id": "mI5VaemSO4-k",
        "outputId": "c748e15c-7c00-4588-d50b-bae3cb072a6c"
      },
      "outputs": [],
      "source": [
        "np.random.seed(42)\n",
        "\n",
        "num_users = 10000\n",
        "num_months = 12\n",
        "\n",
        "signup_months = np.random.choice(np.arange(1, num_months), num_users) * np.random.randint(0,2, size=num_users) # signup_months == 0 means customer did not sign up\n",
        "df = pd.DataFrame({\n",
        "    'user_id': np.repeat(np.arange(num_users), num_months),\n",
        "    'signup_month': np.repeat(signup_months, num_months), # signup month == 0 means customer did not sign up\n",
        "    'month': np.tile(np.arange(1, num_months+1), num_users), # months are from 1 to 12\n",
        "    'spend': np.random.poisson(500, num_users*num_months) #np.random.beta(a=2, b=5, size=num_users * num_months)*1000 # centered at 500\n",
        "})\n",
        "# A customer is in the treatment group if and only if they signed up\n",
        "df[\"treatment\"] = df[\"signup_month\"]>0\n",
        "# Simulating an effect of month (monotonically decreasing--customers buy less later in the year)\n",
        "df[\"spend\"] = df[\"spend\"] - df[\"month\"]*10\n",
        "# Simulating a simple treatment effect of 100\n",
        "after_signup = (df[\"signup_month\"] < df[\"month\"]) & (df[\"treatment\"])\n",
        "df.loc[after_signup,\"spend\"] = df[after_signup][\"spend\"] + 100\n",
        "df"
      ]
    },
    {
      "cell_type": "markdown",
      "metadata": {
        "id": "MkiWX4f70Gha"
      },
      "source": [
        "## **Causal Graph**\n",
        "In this third cell, we're creating a causal graph using the DOT language. A causal graph visually represents the relationships between different variables and how they influence each other in a causal system.\n",
        "\n",
        "The causal graph visually outlines the relationships between the treatment (signup in a specific month), the month of signup, spending before treatment, and spending after treatment. The graph implies potential causal connections between these variables. The \"Z\" node represents a latent confounder or unobserved variable that influences the treatment.\n",
        "\n",
        "This graph and each of its variables are explained as follows:\n",
        "\n",
        "**Scenario:** We have generated synthetic data to simulate user behavior over several months. The data includes information about user sign-up, months, spending, and treatment status (whether they signed up). We are interested in understanding the causal relationship between signing up and post-signup spending behavior, while considering the influence of the month of sign-up.\n",
        "\n",
        "**Causal Graph:** The causal graph we've defined captures the relationships between the variables in our scenario. Let's break down how the graph applies to our example:\n",
        "\n",
        "\n",
        "\n",
        "*   **treatment:** This represents whether a user signed up in a specific month. It's connected to \"post_spends\" to indicate that signing up might influence post-signup spending.\n",
        "*   **pre_spends:** This represents spending behavior before the user signs up. It's connected to \"treatment\" because spending behavior before sign-up might influence the decision to sign up.\n",
        "*   **post_spends:** This represents spending behavior after the user signs up. It's connected to both \"treatment\" (indicating the treatment effect) and \"signup_month\" (indicating that the month of sign-up might influence post-signup spending).\n",
        "*   **Z:** This represents an unobserved latent variable. It's connected to \"treatment\" to indicate that there might be unobserved factors influencing both the treatment and the outcome.\n",
        "*   **signup_month:** This represents the month in which the user signed up. It's connected to both \"post_spends\" (indicating the influence on post-signup spending) and \"treatment\" (indicating that the month of sign-up might influence the decision to sign up).\n",
        "\n",
        "**Example Scenario from the Graph:**\n",
        "Let's consider a specific user from our dataset:\n",
        "\n",
        "\n",
        "*   User ID: 123\n",
        "*   Signup Month: 2\n",
        "*   Month: 4\n",
        "*   Spending Before Signup: $480\n",
        "\n",
        "*   Spending After Signup: $580\n",
        "\n",
        "Using the causal graph, we can reason through the connections:\n",
        "\n",
        "*   The user signed up in month 2 (\"treatment\" = True).\n",
        "*   The user's spending behavior before signing up was $480 (\"pre_spends\" = $480).\n",
        "*   The user's spending behavior after signing up was $580 (\"post_spends\" = $580).\n",
        "*   The month of sign-up was February (\"signup_month\" = 2).\n",
        "\n",
        "From this example, we can interpret that the user signed up in February, which potentially influenced their post-signup spending behavior to increase by $100 (treatment effect). The causal graph helps us visually represent and reason about these relationships.\n",
        "\n",
        "\n",
        "\n",
        "\n",
        "\n",
        "\n"
      ]
    },
    {
      "cell_type": "code",
      "execution_count": null,
      "metadata": {
        "id": "wV521CFVPGF_"
      },
      "outputs": [],
      "source": [
        "i = 3\n",
        "\n",
        "causal_graph = \"\"\"digraph {\n",
        "treatment[label=\"Program Signup in month i\"];\n",
        "pre_spends;\n",
        "post_spends;\n",
        "Z->treatment;\n",
        "pre_spends -> treatment;\n",
        "treatment->post_spends;\n",
        "signup_month->post_spends;\n",
        "signup_month->treatment;\n",
        "}\"\"\""
      ]
    },
    {
      "cell_type": "markdown",
      "metadata": {
        "id": "xY11uv7_6Hu-"
      },
      "source": [
        "## **Preparing Data for causal analysis**\n",
        "In this cell, we are performing data manipulation and aggregation to create a new DataFrame that focuses on specific user behavior for a given month i\n",
        "\n",
        "The resulting DataFrame df_i_signupmonth contains information about spending behavior for users who either didn't sign up or signed up in the given month i. It provides average spending values before and after month i for each user.\n",
        "\n",
        "The output shows a subset of the resulting DataFrame. For example, let's consider the first row:\n",
        "\n",
        "*   User ID: 0\n",
        "*   Signup Month: 0\n",
        "*   Pre-spends: 504.5 (average spending before month i)\n",
        "*   Post-spends: 422.777778 (average spending after month i)\n",
        "\n",
        "This row provides insights into the spending behavior of a user who didn't sign up (signup_month = 0), showing their average spending before and after month i.\n",
        "\n",
        "The DataFrame is structured in a way that allows you to analyze the spending behavior of users based on their signup status and the month of signup. This information could be further used for causal analysis, hypothesis testing, or other forms of data-driven investigation."
      ]
    },
    {
      "cell_type": "code",
      "execution_count": null,
      "metadata": {
        "colab": {
          "base_uri": "https://localhost:8080/"
        },
        "id": "8WpFQc_lPplw",
        "outputId": "8f7074d9-f1a2-468c-d0bf-0080d62987e4"
      },
      "outputs": [],
      "source": [
        "df_i_signupmonth = (\n",
        "    df[df.signup_month.isin([0, i])]\n",
        "    .groupby([\"user_id\", \"signup_month\", \"treatment\"])\n",
        "    .apply(\n",
        "        lambda x: pd.Series(\n",
        "            {\n",
        "                \"pre_spends\": x.loc[x.month < i, \"spend\"].mean(),\n",
        "                \"post_spends\": x.loc[x.month > i, \"spend\"].mean(),\n",
        "            }\n",
        "        )\n",
        "    )\n",
        "    .reset_index()\n",
        ")\n",
        "print(df_i_signupmonth)"
      ]
    },
    {
      "cell_type": "markdown",
      "metadata": {
        "id": "PWmutRFN7_Vk"
      },
      "source": [
        "## **Graph Explanation:**\n",
        "The graph that's being displayed in the output is a visual representation of the causal relationships we've specified in our causal model. we've already explained the nodes and arrows in the graph\n",
        "\n",
        "Relationship of Each node with other:\n",
        "\n",
        "*   Arrows going from **pre_spends** and **z** to **treatment**: This indicates that spending behavior before signing up and the latent variable might influence the treatment variable (whether a user signs up).\n",
        "*   Arrows going from **z** to **post_spends** and **signup_months**: This indicates that the latent variable might influence both post-signup spending behavior and the month of sign-up.\n",
        "*   Arrows going from **signup_months** to **treatment**: This represents the relationship between the month of sign-up and the decision to sign up.\n",
        "*   Arrow going from **treatment** to **post_spends**: This represents the causal effect of signing up on post-signup spending behavior.\n",
        "\n",
        "The graph visualization helps us visually understand the assumptions and relationships we've encoded in our causal model. It provides insights into the variables that might influence each other and the directions of causality we've specified."
      ]
    },
    {
      "cell_type": "code",
      "execution_count": null,
      "metadata": {
        "colab": {
          "base_uri": "https://localhost:8080/",
          "height": 725
        },
        "id": "AIIAtVULPsUE",
        "outputId": "4ef23022-8689-4a77-ad04-29777305a90c"
      },
      "outputs": [],
      "source": [
        "model = dowhy.CausalModel(data=df_i_signupmonth,\n",
        "                          graph=causal_graph.replace(\"\\n\", \" \"),\n",
        "                          treatment=\"treatment\",\n",
        "                          outcome=\"post_spends\")\n",
        "model.view_model()"
      ]
    },
    {
      "cell_type": "markdown",
      "metadata": {
        "id": "6QCMoKyB9gj1"
      },
      "source": [
        "## **Estimands**\n",
        "\n",
        "Estimands in causality refer to the specific quantities or parameters that researchers aim to estimate when conducting causal inference or causal analysis. In other words, an estimand defines what exactly you want to measure or quantify in order to answer a causal question. Estimands play a crucial role in the design of causal studies and the interpretation of their results.\n",
        "\n",
        "Estimands help clarify the causal question at hand and guide the choice of appropriate methods for estimating causal effects. They typically involve a comparison between different groups, treatments, interventions, or time points, and they define the specific outcome or effect that is of interest.\n",
        "\n",
        "It's important to define the estimand clearly before conducting any causal analysis, as different choices of estimands can lead to different study designs, analysis methods, and interpretations of results. Additionally, addressing issues like selection bias, confounding, and other sources of bias is crucial for obtaining valid estimands and making accurate causal inferences.\n",
        "\n",
        "In this  cell, we are using the identify_effect method of the CausalModel to identify the estimands for causal effects based on the causal graph and the data we've generated.\n",
        "\n",
        "**Output Explanation:**\n",
        "The output displays the identified estimands for causal effects in our scenario. Estimands are represented as mathematical expressions that describe how to compute the causal effect. Each estimand has a specific name and assumptions associated with it.\n",
        "\n",
        "**Estimand 1 - Backdoor:**\n",
        "*   **Estimand name:** Backdoor\n",
        "*   **Estimand expression:** This expression represents the causal effect of treatment (signup) on post_spends by conditioning on signup_month to block the backdoor path.\n",
        "*   **Assumption 1 - Unconfoundedness:** This assumption states that if there are no unobserved confounders (U) that affect both treatment and post_spends, then conditioning on signup_month is sufficient to make the treatment effect identifiable.\n",
        "\n",
        "**Estimand 2 - Instrumental Variable (IV):**\n",
        "*   **Estimand name:** IV\n",
        "*   **Estimand expression:** This expression represents the causal effect of treatment on post_spends using pre_spends and Z as instrumental variables.\n",
        "*   **Assumption 1 - As-if-random:** This assumption states that the instrumental variables (pre_spends and Z) are unrelated to any unobserved confounders U.\n",
        "*   **Assumption 2 - Exclusion:** This assumption states that the instrumental variables (pre_spends and Z) affect the outcome only through the treatment variable (treatment), and not directly.\n",
        "\n",
        "**Estimand 3 - Frontdoor (Not Applicable):**\n",
        "*   **Estimand name:** Frontdoor\n",
        "*   **Estimand expression:** This section states \"No such variable(s) found!\" indicating that the frontdoor estimand is not applicable in our scenario. Frontdoor estimands are used when there's a mediator variable that fully mediates the effect of the treatment on the outcome."
      ]
    },
    {
      "cell_type": "code",
      "execution_count": null,
      "metadata": {
        "colab": {
          "base_uri": "https://localhost:8080/"
        },
        "id": "fD0ZEeKuP0RZ",
        "outputId": "f1874502-6bc6-4f51-b1a9-43a8696bc345"
      },
      "outputs": [],
      "source": [
        "identified_estimand = model.identify_effect(proceed_when_unidentifiable=True)\n",
        "print(identified_estimand)"
      ]
    },
    {
      "cell_type": "markdown",
      "metadata": {
        "id": "cX25hGL0Aho3"
      },
      "source": [
        "## **Causal Estimate**\n",
        "Here we are estimating the causal effect using the identified estimand, the chosen estimation method, and the target units. Let's break down the output and its implications:\n",
        "\n",
        "**Output Explanation:**\n",
        "*   **Identified Estimand:** The estimand you previously identified using the identify_effect method is displayed again. It reminds you of the assumptions and the type of estimand you are dealing with.\n",
        "*   **Realized Estimand:** This section provides information about the specific estimand that was realized based on the chosen estimation method and the target units.\n",
        "  *   **b:** **post_spends~treatment+signup_month:** This notation indicates the relationship used to estimate the causal effect. It shows that the outcome variable **post_spends** is regressed on both **treatment** and **signup_month.**\n",
        "  *   **Target units: att:** This indicates that the treatment effect being estimated is the Average Treatment Effect on the Treated (ATT). In other words, it's measuring the difference in the outcome (**post_spends**) for treated units (users who signed up) compared to what their outcome would have been if they hadn't signed up.\n",
        "*  **Estimate:** This section provides the estimated value of the causal effect.\n",
        "  *  **Mean value:** The estimated ATT is approximately 86.27. This means that, on average, users who signed up experienced an increase of around $86.27 in their post-signup spending compared to what their spending would have been if they hadn't signed up.\n",
        "\n",
        "In summary, this cell calculates and presents the estimated causal effect of signing up on post-signup spending behavior using propensity score matching with the ATT as the target unit. The result indicates the average increase in spending due to signing up for the treatment group. This output provides insight into the impact of the treatment on the outcome variable based on the causal model and assumptions we've specified.\n"
      ]
    },
    {
      "cell_type": "code",
      "execution_count": null,
      "metadata": {
        "colab": {
          "base_uri": "https://localhost:8080/"
        },
        "id": "-Rul0YwwQEeP",
        "outputId": "1993d368-227d-4663-d4a3-937705cc9810"
      },
      "outputs": [],
      "source": [
        "estimate = model.estimate_effect(identified_estimand,\n",
        "                                 method_name='backdoor.propensity_score_matching',\n",
        "                                 target_units='att')\n",
        "print(estimate)"
      ]
    },
    {
      "cell_type": "markdown",
      "metadata": {
        "id": "mTXu76IrCuMA"
      },
      "source": [
        "## **Refutation Testing**\n",
        "Refutation tests, also known as falsification tests, are an essential concept in causal inference and the scientific method. They involve attempting to disprove or refute a causal hypothesis by examining the implications of that hypothesis and comparing them to observed data. The idea is that if the hypothesis cannot be falsified based on the observed data, it gains credibility as a potential explanation for the phenomenon under study.\n",
        "\n",
        "Refutation tests serve as a critical step in the scientific process for ensuring that causal hypotheses are rigorously tested against empirical evidence. If a hypothesis passes multiple refutation tests and consistently aligns with a variety of observations and experimental results, it gains stronger support as a plausible explanation for the observed phenomenon. However, even a hypothesis that survives multiple tests should remain open to future testing and potential revision as new evidence emerges.\n",
        "\n",
        "In this cell, we are using the **refute_estimate** method of the **CausalModel** to perform a refutation test on the estimated causal effect. Refutation tests are used to assess the robustness and validity of the estimated causal effect. Let's break down the output and its implications:\n",
        "\n",
        "**Output Explanation:**\n",
        "*   **Refutation: Use a Placebo Treatment: **This section indicates that we're using a placebo treatment refuter to assess the estimated causal effect's validity. A placebo treatment refuter involves introducing a placebo treatment that should not have any true causal effect. This helps test whether the analysis can correctly identify a lack of effect in a situation where we know there should be none.\n",
        "*   **Estimated Effect:** The estimated causal effect that we obtained earlier is displayed here (86.27).\n",
        "*   **New Effect:** This is the effect estimated after introducing the placebo treatment. In this case, the new effect is -3.61.\n",
        "*   **p-value:** The p-value associated with the refutation test is shown (0.23). This p-value indicates the probability of observing the new effect (-3.61) or an even more extreme effect under the assumption that the null hypothesis is true (i.e., there is no causal effect). A p-value close to 1 suggests that the new effect is consistent with the null hypothesis.\n",
        "\n",
        "**Interpretation:**\n",
        "In this refutation test, we introduced a placebo treatment that should not have any true causal effect. The fact that the new effect after introducing the placebo treatment is close to zero (and even slightly negative) indicates that the analysis correctly identifies a lack of effect in this scenario. The p-value of 0.23 suggests that the observed new effect is consistent with the null hypothesis of no causal effect."
      ]
    },
    {
      "cell_type": "code",
      "execution_count": null,
      "metadata": {
        "colab": {
          "base_uri": "https://localhost:8080/"
        },
        "id": "VSbMjp7vQWDi",
        "outputId": "6c507824-ef94-4ed8-cf76-f5ff974b727a"
      },
      "outputs": [],
      "source": [
        "refutation = model.refute_estimate(identified_estimand, estimate, method_name='placebo_treatment_refuter',\n",
        "                     placebo_type='permute', num_simulations=20)\n",
        "print(refutation)"
      ]
    },
    {
      "cell_type": "markdown",
      "metadata": {
        "id": "Ieqw7hroalng"
      },
      "source": [
        "## **Conclusion of Causal Inference:**\n",
        "Now let's tie everything together and interpret the results based on the entire example and the causal graph we've assumed:\n",
        "\n",
        "**1. Original Estimated Causal Effect:**\n",
        "*       You estimated the Average Treatment Effect on the Treated (ATT) using the identified estimand and the propensity score matching method.\n",
        "*   The estimated ATT was approximately 86.2\n",
        "*   This suggests that users who signed up experienced an average increase in post-signup spending of around $86.27 compared to what their spending would have been if they hadn't signed up.\n",
        "*   This estimation was based on the causal graph assumptions you've specified.\n",
        "\n",
        "**2. Refutation Test - Placebo Treatment:**\n",
        "\n",
        "\n",
        "*   In the refutation test, you introduced a placebo treatment that should have no true causal effect.\n",
        "*   The new effect, after introducing the placebo treatment, was approximately -3.61.\n",
        "*   The p-value associated with the refutation test was 0.23.\n",
        "*   The p-value indicates that the observed new effect is consistent with the null hypothesis of no causal effect.\n",
        "*   In other words, the analysis correctly identified that the placebo treatment had no effect, as expected.\n",
        "\n",
        "**Interpretation and Implications:**\n",
        "\n",
        "\n",
        "*   The original estimated causal effect suggested a positive impact of signing up on post-signup spending behavior.\n",
        "*   However, the refutation test with the placebo treatment confirmed the robustness of your analysis. It showed that the method correctly identified situations where there should be no effect.\n",
        "*   The results of the refutation test support the validity of your original estimation. It indicates that your analysis approach is able to distinguish between real causal effects and situations where there should be no effect.\n",
        "*   This adds confidence to the initial result, suggesting that the observed increase in post-signup spending among users who signed up is indeed likely due to the treatment (signing up).\n",
        "\n",
        "Overall, based on the causal graph, the original estimation, and the refutation test, we can reasonably conclude that there is a positive causal effect of signing up on post-signup spending behavior among users. The robustness of your analysis provides more assurance that the observed effect is likely not due to chance or confounding factors.\n",
        "\n",
        "This interpretation is based on the provided information, actual conclusions may vary depending on the specifics of your dataset, the quality of your causal assumptions, and other factors. Causal inference is a complex process that requires careful consideration of the data, assumptions, and analysis methods."
      ]
    },
    {
      "cell_type": "markdown",
      "metadata": {
        "id": "4hpA5rZras2C"
      },
      "source": [
        "# **Correlation**"
      ]
    },
    {
      "cell_type": "markdown",
      "metadata": {
        "id": "pW1fa8SwdkvD"
      },
      "source": [
        "**Correlation Analayis**\n",
        "After causality we have run a correlation analysis on the same dataset to explore the relationships between variables. However, keep in mind that correlation does not imply causation. While correlations can reveal associations between variables, they don't provide information about the direction or cause-and-effect relationships."
      ]
    },
    {
      "cell_type": "markdown",
      "metadata": {
        "id": "macoGrUCeRgl"
      },
      "source": [
        "This code calculates the correlation coefficient between the signup_month and post_spends columns and prints the result. The correlation coefficient will be a value between -1 and 1, indicating the strength and direction of the linear relationship between the two variables. However, remember that a correlation doesn't necessarily imply causation, and it's important to interpret the results carefully."
      ]
    },
    {
      "cell_type": "code",
      "execution_count": null,
      "metadata": {
        "colab": {
          "base_uri": "https://localhost:8080/"
        },
        "id": "R5wCJYC6k37n",
        "outputId": "f2315eec-8450-4b48-c278-45981fe7c43e"
      },
      "outputs": [],
      "source": [
        "correlation = df_i_signupmonth[\"signup_month\"].corr(df_i_signupmonth[\"post_spends\"])\n",
        "print(\"Correlation between signup_month and post_spends:\", correlation)"
      ]
    },
    {
      "cell_type": "code",
      "execution_count": null,
      "metadata": {
        "colab": {
          "base_uri": "https://localhost:8080/",
          "height": 699
        },
        "id": "vAY0IpnXojwy",
        "outputId": "1741d45a-a4d9-4d5a-ab73-f135049436a0"
      },
      "outputs": [],
      "source": [
        "import seaborn as sns\n",
        "import matplotlib.pyplot as plt\n",
        "\n",
        "# Calculate the correlation matrix\n",
        "correlation_matrix = df_i_signupmonth.corr()\n",
        "\n",
        "# Create a heatmap\n",
        "plt.figure(figsize=(10, 8))\n",
        "sns.heatmap(correlation_matrix, annot=True, cmap=\"coolwarm\", fmt=\".2f\")\n",
        "plt.title(\"Correlation Heatmap\")\n",
        "plt.show()"
      ]
    },
    {
      "cell_type": "markdown",
      "metadata": {
        "id": "CSfhZAxBedEp"
      },
      "source": [
        "## Interpetation on Correlation Analysis\n",
        "Correlation analysis focuses on quantifying the degree of association between two variables. It measures how changes in one variable are related to changes in another variable without necessarily implying a causal relationship. Correlation does not provide information about causality; it only indicates the strength and direction of a linear relationship.\n",
        "\n",
        "In the context of our example:\n",
        "\n",
        "\n",
        "*       You can use correlation analysis to measure how closely related **signup_month** and **post_spends** are. For instance, we calculated the Pearson correlation coefficient between these two variables.\n",
        "*   A positive correlation coefficient indicates that as s**ignup_month** increases, **post_spends** tends to increase (and vice versa).\n",
        "*   A negative correlation coefficient indicates an inverse relationship: as **signup_month** increases, **post_spends** tends to decrease.\n",
        "\n",
        "In conclusion, causal learning and correlation analysis are both valuable tools, but they serve different purposes. **Causal learning is about understanding cause and effect, while correlation analysis is about measuring the strength of association**."
      ]
    },
    {
      "cell_type": "markdown",
      "metadata": {
        "id": "iZ0eOCFkgA5_"
      },
      "source": [
        "# **Explainable AI**"
      ]
    },
    {
      "cell_type": "code",
      "execution_count": null,
      "metadata": {
        "id": "g7xgWxdlk_-o"
      },
      "outputs": [],
      "source": [
        "import numpy as np\n",
        "import pandas as pd\n",
        "import matplotlib.pyplot as plt\n",
        "from sklearn.model_selection import train_test_split\n",
        "from sklearn.linear_model import LinearRegression\n",
        "from sklearn.tree import DecisionTreeRegressor\n",
        "from sklearn.inspection import partial_dependence\n",
        "from sklearn.metrics import mean_squared_error"
      ]
    },
    {
      "cell_type": "code",
      "execution_count": null,
      "metadata": {
        "id": "-P64ixbamf5U"
      },
      "outputs": [],
      "source": [
        "# Split the data into features (X) and target (y)\n",
        "X = df_i_signupmonth.drop(columns=[\"post_spends\"])\n",
        "y = df_i_signupmonth[\"post_spends\"]"
      ]
    },
    {
      "cell_type": "code",
      "execution_count": null,
      "metadata": {
        "id": "fGHVIXSDmkkV"
      },
      "outputs": [],
      "source": [
        "# Split the data into train and test sets\n",
        "X_train, X_test, y_train, y_test = train_test_split(X, y, test_size=0.2, random_state=42)"
      ]
    },
    {
      "cell_type": "code",
      "execution_count": null,
      "metadata": {
        "colab": {
          "base_uri": "https://localhost:8080/",
          "height": 75
        },
        "id": "0pcJFG3Hmzxn",
        "outputId": "052b55e5-8487-468d-afad-94332993c38c"
      },
      "outputs": [],
      "source": [
        "# Fit a linear regression model\n",
        "linear_model = LinearRegression()\n",
        "linear_model.fit(X_train, y_train)"
      ]
    },
    {
      "cell_type": "code",
      "execution_count": null,
      "metadata": {
        "id": "rJ0zpAfum6v9"
      },
      "outputs": [],
      "source": [
        "# Calculate feature importances for decision tree\n",
        "tree_model = DecisionTreeRegressor()\n",
        "tree_model.fit(X_train, y_train)\n",
        "feature_importances = tree_model.feature_importances_"
      ]
    },
    {
      "cell_type": "code",
      "execution_count": null,
      "metadata": {
        "colab": {
          "base_uri": "https://localhost:8080/",
          "height": 607
        },
        "id": "g7Estunzm--M",
        "outputId": "7c306172-bd0f-4b31-b70d-97636f21bcf9"
      },
      "outputs": [],
      "source": [
        "# Plot feature importances\n",
        "plt.figure(figsize=(10, 6))\n",
        "plt.bar(X_train.columns, feature_importances)\n",
        "plt.title(\"Feature Importances (Decision Tree)\")\n",
        "plt.xlabel(\"Features\")\n",
        "plt.ylabel(\"Importance\")\n",
        "plt.xticks(rotation=45)\n",
        "plt.tight_layout()\n",
        "plt.show()"
      ]
    },
    {
      "cell_type": "code",
      "execution_count": null,
      "metadata": {
        "colab": {
          "base_uri": "https://localhost:8080/"
        },
        "id": "xs6oK__PnBb7",
        "outputId": "adc6bfda-380f-4511-b4ab-dfcf386791ea"
      },
      "outputs": [],
      "source": [
        "linear_predictions = linear_model.predict(X_test)\n",
        "linear_mse = mean_squared_error(y_test, linear_predictions)\n",
        "print(\"Linear Regression Mean Squared Error:\", linear_mse)"
      ]
    }
  ],
  "metadata": {
    "colab": {
      "collapsed_sections": [
        "caCtzZo8xNcT",
        "HO-FTd5axbEf",
        "MkiWX4f70Gha",
        "xY11uv7_6Hu-",
        "PWmutRFN7_Vk"
      ],
      "provenance": []
    },
    "kernelspec": {
      "display_name": "Python 3",
      "name": "python3"
    },
    "language_info": {
      "codemirror_mode": {
        "name": "ipython",
        "version": 3
      },
      "file_extension": ".py",
      "mimetype": "text/x-python",
      "name": "python",
      "nbconvert_exporter": "python",
      "pygments_lexer": "ipython3",
      "version": "3.10.14"
    }
  },
  "nbformat": 4,
  "nbformat_minor": 0
}
